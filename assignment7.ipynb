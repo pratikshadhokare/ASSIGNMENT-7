{
  "nbformat": 4,
  "nbformat_minor": 0,
  "metadata": {
    "colab": {
      "provenance": []
    },
    "kernelspec": {
      "name": "python3",
      "display_name": "Python 3"
    },
    "language_info": {
      "name": "python"
    }
  },
  "cells": [
    {
      "cell_type": "markdown",
      "source": [
        "ASSIGNMENT 7 THEORY QUESTIONS"
      ],
      "metadata": {
        "id": "gNsW5Uo4Icg1"
      }
    },
    {
      "cell_type": "markdown",
      "source": [
        "1. What is a RESTful API?\n",
        "\n",
        "A RESTful API (Representational State Transfer API) is a web service that follows REST principles, using standard HTTP methods (GET, POST, PUT, DELETE) to perform CRUD operations on resources identified by URLs. It's stateless and usually returns data in JSON format."
      ],
      "metadata": {
        "id": "yCGgUr-KIcbq"
      }
    },
    {
      "cell_type": "markdown",
      "source": [
        "2. Explain the concept of API specification.\n",
        "\n",
        "An API specification defines how an API should behave, detailing available endpoints, request/response formats, parameters, authentication methods, and more. OpenAPI (formerly Swagger) is a common format for documenting REST APIs.\n",
        "\n"
      ],
      "metadata": {
        "id": "VZU9HtLvIcaP"
      }
    },
    {
      "cell_type": "markdown",
      "source": [
        "3. What is Flask, and why is it popular for building APIs?\n",
        "\n",
        "Flask is a lightweight Python web framework. It's popular for building APIs because:\n",
        "* It's simple and minimalistic.\n",
        "* It has extensive documentation.\n",
        "* It supports extensions like Flask-SQLAlchemy.\n",
        "* It's easy to prototype and scale."
      ],
      "metadata": {
        "id": "Ivkeu2RiIcZe"
      }
    },
    {
      "cell_type": "markdown",
      "source": [
        "4. What is routing in Flask?\n",
        "\n",
        "Routing in Flask maps URL patterns to specific Python functions. When a URL is requested, Flask calls the function associated with that route."
      ],
      "metadata": {
        "id": "UkMRMwgfIcYF"
      }
    },
    {
      "cell_type": "markdown",
      "source": [
        "5. How do you create a simple Flask application?\n",
        "\n",
        "from flask import Flask\n",
        "\n",
        "app = Flask(__name__)\n",
        "\n",
        "@app.route('/')\n",
        "def home():\n",
        "    return 'Hello, World!'\n",
        "\n",
        "if __name__ == '__main__':\n",
        "    app.run(debug=True)\n"
      ],
      "metadata": {
        "id": "DThquCX8IcTa"
      }
    },
    {
      "cell_type": "markdown",
      "source": [
        "6. What are HTTP methods used in RESTful APIs?\n",
        "\n",
        "* GET – Retrieve data\n",
        "* POST – Create new data\n",
        "* PUT – Update existing data\n",
        "* DELETE – Remove data\n",
        "* PATCH – Partially update data\n",
        "\n"
      ],
      "metadata": {
        "id": "5qIK5zG8IcRH"
      }
    },
    {
      "cell_type": "markdown",
      "source": [
        "7. What is the purpose of the @app.route() decorator in Flask?\n",
        "\n",
        "The @app.route() decorator defines a route, linking a URL pattern to a Python function that handles requests to that URL."
      ],
      "metadata": {
        "id": "o6Xkhr3b_U-W"
      }
    },
    {
      "cell_type": "markdown",
      "source": [
        "8. What is the difference between GET and POST HTTP methods?\n",
        "* GET: Retrieves data, sent in URL parameters, safe and idempotent.\n",
        "* POST: Sends data to the server (e.g., form data), modifies state, not idempotent."
      ],
      "metadata": {
        "id": "xxzFEF5q_U5G"
      }
    },
    {
      "cell_type": "markdown",
      "source": [
        "9. How do you handle errors in Flask APIs?\n",
        "Use error handlers:\n",
        "\n",
        "from flask import jsonify\n",
        "@app.errorhandler(404)\n",
        "def not_found(error):\n",
        "    return jsonify({'error': 'Not found'}), 404\n"
      ],
      "metadata": {
        "id": "vjdplWSk_U2H"
      }
    },
    {
      "cell_type": "markdown",
      "source": [
        "10. How do you connect Flask to a SQL database?\n",
        "Using SQLAlchemy:\n",
        "\n",
        "from flask_sqlalchemy import SQLAlchemy\n",
        "app.config['SQLALCHEMY_DATABASE_URI'] = 'sqlite:///data.db'\n",
        "db = SQLAlchemy(app)\n"
      ],
      "metadata": {
        "id": "RWBWdfch_Uys"
      }
    },
    {
      "cell_type": "markdown",
      "source": [
        "11. What is the role of Flask-SQLAlchemy?\n",
        "\n",
        "Flask-SQLAlchemy integrates SQLAlchemy with Flask, providing ORM capabilities, easier configuration, and cleaner syntax for database operations."
      ],
      "metadata": {
        "id": "RoRSgUFK_Uwe"
      }
    },
    {
      "cell_type": "markdown",
      "source": [
        "12. What are Flask blueprints, and how are they useful?\n",
        "Blueprints allow you to organize Flask applications into modular components. Each blueprint can contain its own routes, templates, and static files, making large apps easier to maintain.\n",
        "\n",
        "eg- from flask import Blueprint\n",
        "\n",
        "api_bp = Blueprint('api', __name__)\n",
        "\n",
        "@api_bp.route('/data')\n",
        "def get_data():\n",
        "    return 'Some data'\n"
      ],
      "metadata": {
        "id": "qh6CIaSG_Uug"
      }
    },
    {
      "cell_type": "markdown",
      "source": [
        "13. What is the purpose of Flask's request object?\n",
        "\n",
        "The request object in Flask allows you to access incoming request data like:\n",
        "* Form data (request.form)\n",
        "* JSON data (request.get_json())\n",
        "* Query parameters (request.args)\n",
        "* File uploads (request.files)\n",
        "* HTTP method (request.method)"
      ],
      "metadata": {
        "id": "6gtj0gNq_Uso"
      }
    },
    {
      "cell_type": "markdown",
      "source": [
        "14. How do you create a RESTful API endpoint using Flask?\n",
        "\n",
        "Example of a simple POST endpoint:\n",
        "from flask import Flask, request, jsonify\n",
        "\n",
        "app = Flask(__name__)\n",
        "\n",
        "@app.route('/api/data', methods=['POST'])\n",
        "def create_data():\n",
        "    data = request.get_json()\n",
        "    return jsonify({\"message\": \"Data received\", \"data\": data}), 201\n"
      ],
      "metadata": {
        "id": "jcvFAgrw_Uqu"
      }
    },
    {
      "cell_type": "markdown",
      "source": [
        "15. What is the purpose of Flask's jsonify() function?\n",
        "\n",
        "jsonify() converts a Python dictionary (or other serializable types) into a JSON response. It automatically sets the Content-Type to application/json."
      ],
      "metadata": {
        "id": "tJ2lPN8M_Uoi"
      }
    },
    {
      "cell_type": "markdown",
      "source": [
        "16. Explain Flask’s url_for() function\n",
        "url_for() dynamically generates a URL for a view function by name. This is useful when routes change—you don't have to hardcode URLs.\n",
        "\n",
        "url_for('get_data')  # returns '/data' if get_data() is a route\n",
        "\n"
      ],
      "metadata": {
        "id": "vZGxxgbN_UmN"
      }
    },
    {
      "cell_type": "markdown",
      "source": [
        "17. How does Flask handle static files (CSS, JavaScript, etc.)?\n",
        "* Flask serves static files from the static/ folder by default.\n",
        "* Access them with /static/filename.ext.\n",
        "* link rel=\"stylesheet\" href=\"{{ url_for('static', filename='style.css') }}\">\n"
      ],
      "metadata": {
        "id": "BiVvJEIt_Uj8"
      }
    },
    {
      "cell_type": "markdown",
      "source": [
        "18. What is an API specification, and how does it help in building a Flask API?\n",
        "\n",
        "An API specification is a structured description of an API (e.g., using OpenAPI/Swagger). It defines endpoints, methods, parameters, and responses—helping:\n",
        "* Frontend and backend teams collaborate\n",
        "* Tools auto-generate documentation or code\n",
        "* Ensure consistency and reduce bugs"
      ],
      "metadata": {
        "id": "YUWWgwzf_Uhp"
      }
    },
    {
      "cell_type": "markdown",
      "source": [
        "19. What are HTTP status codes, and why are they important in a Flask API?\n",
        "\n",
        "HTTP status codes tell the client whether a request succeeded or failed:\n",
        "* 200 OK – success\n",
        "* 201 Created – resource created\n",
        "* 400 Bad Request – invalid data\n",
        "* 404 Not Found – resource doesn’t exist\n",
        "* 500 Internal Server Error – server issue\n",
        "* They help clients interpret the API's responses correctly."
      ],
      "metadata": {
        "id": "eYvKXNQU_Uf1"
      }
    },
    {
      "cell_type": "markdown",
      "source": [
        "20. How do you handle POST requests in Flask?\n",
        "\n",
        "Use methods=['POST'] and extract data with request.get_json():\n",
        "\n",
        "@app.route('/submit', methods=['POST'])\n",
        "def submit():\n",
        "    data = request.get_json()\n",
        "    return jsonify(data), 200\n",
        "\n"
      ],
      "metadata": {
        "id": "9yC9T7U9_UeM"
      }
    },
    {
      "cell_type": "markdown",
      "source": [
        "21. How would you secure a Flask API?\n",
        "* Use HTTPS\n",
        "* Implement authentication (e.g., JWT, OAuth)\n",
        "* Validate and sanitize input\n",
        "* Use rate limiting\n",
        "* Protect against CSRF/XSS where needed\n",
        "* Restrict CORS with flask-cors\n",
        "\n"
      ],
      "metadata": {
        "id": "vCHOVGdh_Uch"
      }
    },
    {
      "cell_type": "markdown",
      "source": [
        "22. 10. What is the significance of the Flask-RESTful extension?\n",
        "\n",
        "* Flask-RESTful simplifies API development:\n",
        "* Class-based resources\n",
        "* Built-in request parsing (reqparse)\n",
        "* Better structure for RESTful routes\n",
        "\n",
        "from flask_restful import Resource\n",
        "\n",
        "class Hello(Resource):\n",
        "    def get(self):\n",
        "        return {'message': 'Hello, world!'}\n"
      ],
      "metadata": {
        "id": "SpiK7auI_Uam"
      }
    },
    {
      "cell_type": "markdown",
      "source": [
        "23. 11. What is the role of Flask’s session object?\n",
        "\n",
        "The session object stores data across user requests (e.g., login state). It uses cookies and a secret key to securely sign data.\n",
        "\n",
        "from flask import session\n",
        "\n",
        "session['user'] = 'alice'\n",
        "username = session.get('user')\n",
        "\n"
      ],
      "metadata": {
        "id": "4W2zwHD6_UWC"
      }
    },
    {
      "cell_type": "markdown",
      "source": [
        "PRACTICAL QUESTIONS"
      ],
      "metadata": {
        "id": "f7oMhOjeDCEv"
      }
    },
    {
      "cell_type": "code",
      "source": [
        "#1. How do you create a basic Flask application?\n",
        "from flask import Flask\n",
        "\n",
        "app = Flask(__name__)\n",
        "\n",
        "@app.route('/')\n",
        "def home():\n",
        "    return 'Hello, Flask!'\n",
        "\n",
        "if __name__ == '__main__':\n",
        "    app.run(debug=True)\n"
      ],
      "metadata": {
        "colab": {
          "base_uri": "https://localhost:8080/"
        },
        "id": "6UALGRQNDGRx",
        "outputId": "01ce034b-c5dc-4af1-a5b1-24a5c14e4341"
      },
      "execution_count": null,
      "outputs": [
        {
          "metadata": {
            "tags": null
          },
          "name": "stdout",
          "output_type": "stream",
          "text": [
            " * Serving Flask app '__main__'\n",
            " * Debug mode: on\n"
          ]
        },
        {
          "metadata": {
            "tags": null
          },
          "name": "stderr",
          "output_type": "stream",
          "text": [
            "INFO:werkzeug:\u001b[31m\u001b[1mWARNING: This is a development server. Do not use it in a production deployment. Use a production WSGI server instead.\u001b[0m\n",
            " * Running on http://127.0.0.1:5000\n",
            "INFO:werkzeug:\u001b[33mPress CTRL+C to quit\u001b[0m\n",
            "INFO:werkzeug: * Restarting with stat\n"
          ]
        }
      ]
    },
    {
      "cell_type": "code",
      "source": [
        "#2.How do you serve static files like images or CSS in Flask\n",
        "<link rel=\"stylesheet\" href=\"{{ url_for('static', filename='style.css') }}\">\n",
        "<img src=\"{{ url_for('static', filename='logo.png') }}\">\n"
      ],
      "metadata": {
        "id": "wIJ6E62hDGOG"
      },
      "execution_count": null,
      "outputs": []
    },
    {
      "cell_type": "code",
      "source": [
        "#3.How do you define different routes with different HTTP methods in Flask\n",
        "@app.route('/submit', methods=['GET', 'POST'])\n",
        "def submit():\n",
        "    if request.method == 'POST':\n",
        "        return 'Form submitted'\n",
        "    return 'Submit form'\n"
      ],
      "metadata": {
        "id": "7y9xTsdzDGMl"
      },
      "execution_count": null,
      "outputs": []
    },
    {
      "cell_type": "code",
      "source": [
        "#4.How do you render HTML templates in Flask\n",
        "from flask import render_template\n",
        "\n",
        "@app.route('/hello')\n",
        "def hello():\n",
        "    return render_template('hello.html', name='Alice')\n"
      ],
      "metadata": {
        "id": "Vsm_kvC_DGKX"
      },
      "execution_count": null,
      "outputs": []
    },
    {
      "cell_type": "code",
      "source": [
        "#5.How can you generate URLs for routes in Flask using url_for\n",
        "from flask import url_for\n",
        "\n",
        "@app.route('/profile/<username>')\n",
        "def profile(username):\n",
        "    return f\"Hello, {username}\"\n",
        "\n",
        "@app.route('/link')\n",
        "def link():\n",
        "    return url_for('profile', username='john')\n"
      ],
      "metadata": {
        "id": "t7xTY9kIDGIc"
      },
      "execution_count": null,
      "outputs": []
    },
    {
      "cell_type": "code",
      "source": [
        "#6.How do you handle forms in Flask\n",
        "<!-- templates/form.html -->\n",
        "<form method=\"POST\">\n",
        "  <input name=\"name\">\n",
        "  <input type=\"submit\">\n",
        "</form>\n",
        "from flask import request\n",
        "\n",
        "@app.route('/form', methods=['GET', 'POST'])\n",
        "def form():\n",
        "    if request.method == 'POST':\n",
        "        name = request.form['name']\n",
        "        return f\"Hello {name}\"\n",
        "    return render_template('form.html')\n"
      ],
      "metadata": {
        "id": "gJ6bzE6WDGFz"
      },
      "execution_count": null,
      "outputs": []
    },
    {
      "cell_type": "code",
      "source": [
        "#7.How can you validate form data in Flask\n",
        "if not request.form['name']:\n",
        "    return \"Name is required\"\n",
        "pip install flask-wtf\n"
      ],
      "metadata": {
        "id": "3PmbqBLZDGDi"
      },
      "execution_count": null,
      "outputs": []
    },
    {
      "cell_type": "code",
      "source": [
        "#8.How do you manage sessions in Flask\n",
        "from flask import session\n",
        "\n",
        "app.secret_key = 'secret'\n",
        "\n",
        "@app.route('/login')\n",
        "def login():\n",
        "    session['user'] = 'Alice'\n",
        "    return 'Logged in'\n",
        "\n",
        "@app.route('/logout')\n",
        "def logout():\n",
        "    session.pop('user', None)\n",
        "    return 'Logged out'\n"
      ],
      "metadata": {
        "id": "qsJSi8xrDGB3"
      },
      "execution_count": null,
      "outputs": []
    },
    {
      "cell_type": "code",
      "source": [
        "#9.How do you redirect to a different route in Flask\n",
        "from flask import redirect, url_for\n",
        "\n",
        "@app.route('/go-home')\n",
        "def go_home():\n",
        "    return redirect(url_for('home'))\n"
      ],
      "metadata": {
        "id": "pfGH7Vw-DF-s"
      },
      "execution_count": null,
      "outputs": []
    },
    {
      "cell_type": "code",
      "source": [
        "#10.How do you handle errors in Flask (e.g., 404)\n",
        "@app.errorhandler(404)\n",
        "def not_found(e):\n",
        "    return render_template('404.html'), 404"
      ],
      "metadata": {
        "id": "GGxFGhYvDF8f"
      },
      "execution_count": null,
      "outputs": []
    },
    {
      "cell_type": "code",
      "source": [
        "#11.How do you structure a Flask app using Blueprints\n",
        "# user_routes.py\n",
        "from flask import Blueprint\n",
        "bp = Blueprint('user', __name__)\n",
        "\n",
        "@bp.route('/profile')\n",
        "def profile():\n",
        "    return \"User Profile\"\n",
        "\n",
        "# app.py\n",
        "from user_routes import bp\n",
        "app.register_blueprint(bp, url_prefix='/user')\n"
      ],
      "metadata": {
        "id": "nUGGK2XSDF6G"
      },
      "execution_count": null,
      "outputs": []
    },
    {
      "cell_type": "code",
      "source": [
        "#12.How do you define a custom Jinja filter in Flask\n",
        "@app.template_filter('capitalize')\n",
        "def capitalize_filter(s):\n",
        "    return s.capitalize()\n",
        "\n",
        "# in HTML: {{ \"hello\"|capitalize }}\n"
      ],
      "metadata": {
        "id": "9GrLbM8kDF4B"
      },
      "execution_count": null,
      "outputs": []
    },
    {
      "cell_type": "code",
      "source": [
        "#13.How can you redirect with query parameters in Flask\n",
        "return redirect(url_for('search', q='flask'))\n",
        "request.args.get('q')\n"
      ],
      "metadata": {
        "id": "rA6OhIOIDF2J"
      },
      "execution_count": null,
      "outputs": []
    },
    {
      "cell_type": "code",
      "source": [
        "#14.How do you return JSON responses in Flask\n",
        "from flask import jsonify\n",
        "\n",
        "@app.route('/api/data')\n",
        "def api_data():\n",
        "    return jsonify({\"name\": \"Alice\", \"age\": 25})\n"
      ],
      "metadata": {
        "id": "FqkSEVDMDFzP"
      },
      "execution_count": null,
      "outputs": []
    },
    {
      "cell_type": "code",
      "source": [
        "#15.How do you capture URL parameters in Flask?\n",
        "@app.route('/user/<username>')\n",
        "def user_profile(username):\n",
        "    return f\"Welcome {username}\"\n"
      ],
      "metadata": {
        "id": "eEz0ZAHMDFxH"
      },
      "execution_count": null,
      "outputs": []
    }
  ]
}